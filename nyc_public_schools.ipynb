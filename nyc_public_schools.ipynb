{
  "nbformat": 4,
  "nbformat_minor": 0,
  "metadata": {
    "colab": {
      "provenance": [],
      "authorship_tag": "ABX9TyOQ7bwPHJgDschOzSa0AGxY",
      "include_colab_link": true
    },
    "kernelspec": {
      "name": "python3",
      "display_name": "Python 3"
    },
    "language_info": {
      "name": "python"
    }
  },
  "cells": [
    {
      "cell_type": "markdown",
      "metadata": {
        "id": "view-in-github",
        "colab_type": "text"
      },
      "source": [
        "<a href=\"https://colab.research.google.com/github/PeterSBerman/nyc-public-schools/blob/main/nyc_public_schools.ipynb\" target=\"_parent\"><img src=\"https://colab.research.google.com/assets/colab-badge.svg\" alt=\"Open In Colab\"/></a>"
      ]
    },
    {
      "cell_type": "code",
      "execution_count": 143,
      "metadata": {
        "colab": {
          "base_uri": "https://localhost:8080/",
          "height": 436
        },
        "id": "n2nGZJpHJBCz",
        "outputId": "4c927971-8458-45b0-a40f-85bea426bd9e"
      },
      "outputs": [
        {
          "output_type": "stream",
          "name": "stderr",
          "text": [
            "<ipython-input-143-dadae172a44e>:36: SettingWithCopyWarning: \n",
            "A value is trying to be set on a copy of a slice from a DataFrame.\n",
            "Try using .loc[row_indexer,col_indexer] = value instead\n",
            "\n",
            "See the caveats in the documentation: https://pandas.pydata.org/pandas-docs/stable/user_guide/indexing.html#returning-a-view-versus-a-copy\n",
            "  df8['Percent Scoring 65 or Above'] = df8['Percent Scoring 65 or Above'].apply(pd.to_numeric)\n"
          ]
        },
        {
          "output_type": "execute_result",
          "data": {
            "text/plain": [
              "<Axes: title={'center': 'Top 5 High Schools in Brooklyn for Common Core Algebra'}, ylabel='School Name'>"
            ]
          },
          "metadata": {},
          "execution_count": 143
        },
        {
          "output_type": "display_data",
          "data": {
            "text/plain": [
              "<Figure size 432x288 with 1 Axes>"
            ],
            "image/png": "[encoded data removed]"
          },
          "metadata": {
            "needs_background": "light"
          }
        }
      ],
      "source": [
        "#for my project I will select High Schools in the boro of Brooklyn (aka Kings County) \n",
        "#and list out the top 5 schools in terms of % of students passing the regents in the year 2017 for Common Core Algebra\n",
        "# i did my initial school last as my HS was closed in 2014 and made into 7 seperate schools! on the campus, so iselected one of the top 5 from results\n",
        "\n",
        "#import numpy and pandas libraries\n",
        "import numpy as np \n",
        "import pandas as pd \n",
        "\n",
        "#define dataframe(df) as data\n",
        "df = pd.read_csv('https://raw.githubusercontent.com/CunyLaguardiaDataAnalytics/datasets/master/2014-15_To_2016-17_School-_Level_NYC_Regents_Report_For_All_Variables.csv')\n",
        "\n",
        "#get a feel for the table structure and data \n",
        "df.head()\n",
        "\n",
        "#first I will create a new dataframe with only needed columns\n",
        "df2 = df[['School DBN','School Name','School Level','Regents Exam','Year','Percent Scoring 65 or Above']]\n",
        "\n",
        "#lets remove all non High Schools and then all years except for 2017 and then all exams not Common Core Algebra and save that to a new dataframe\n",
        "df3 = df2[(df2['School Level']=='High school') & (df2['Year']==2017) & (df2['Regents Exam']=='Common Core Algebra')] \n",
        "\n",
        "#now that we have a focused dataset, it is time to do some cleanup, lets remove all s values from the Percent Scoring 65 or Above column\n",
        "df4 = df3[df3['Percent Scoring 65 or Above']!='s']\n",
        "\n",
        "#lets not forget about removing all other boros except for Brooklyn = School DBN = K\n",
        "df5 = df4[df4['School DBN'].str.contains('K')]\n",
        "\n",
        "#create a new dataframe with only needed columns\n",
        "df6 = df5[['School DBN','School Name','Percent Scoring 65 or Above']]\n",
        "\n",
        "#sort\n",
        "df7 = df6.sort_values('Percent Scoring 65 or Above', ascending=False)\n",
        "\n",
        "#there are duplicate schools which doesn't make sense but will have to drop\n",
        "df8 = df7.drop_duplicates('School DBN')\n",
        "\n",
        "#convert Percent Scoring 65 or Above to a numeric value\n",
        "df8['Percent Scoring 65 or Above'] = df8['Percent Scoring 65 or Above'].apply(pd.to_numeric)\n",
        "\n",
        "#drop index and swap with School DBN which should be unique after deduping and keeping the highest values of the dupe schools\n",
        "df8['School DBN'].is_unique\n",
        "df9 = df8.set_index('School DBN')\n",
        "\n",
        "#swap index to school name now that its singular for plotting\n",
        "df10 = df9[['School Name','Percent Scoring 65 or Above']].set_index('School Name')\n",
        "\n",
        "#grab top 5\n",
        "df11 = df10.nlargest(5, 'Percent Scoring 65 or Above')\n",
        "\n",
        "#plot results\n",
        "df11.plot(kind='barh', title='Top 5 High Schools in Brooklyn for Common Core Algebra')\n",
        "\n",
        "# conclusion: Brooklyn has many viable high schools to choose from when it comes to proficiency in Common Core Algebra. \n",
        "# Of the top 5 there is 1. Brooklyn Tech 2. Brooklyn College Academy 3.Millenium Brooklyn HS 4. Bedford Academy and 5. Telcom Arts & Tech"
      ]
    },
    {
      "cell_type": "code",
      "source": [
        "\n",
        "#picking school for initial comparison point\n",
        "dfi = df\n",
        "\n",
        "dfii = dfi[dfi['School Name'].str.contains('Millennium High School')]\n",
        "\n",
        "#dfii.head() # confirm Millennium High School isolated\n",
        "\n",
        "#dfii.min() # lowest mean score = Algebra2/Trigonometry if i'm reading this right?\n",
        "\n",
        "#dfii.max() # U.S. History and Government had the most total tested if i'm reading this right?\n",
        "\n",
        "#dfii.mean() # The mean total students tested per exam is 51 :) thats something! \n",
        "\n",
        "dfii.describe() # max students tested for this school was 186, min was 1"
      ],
      "metadata": {
        "colab": {
          "base_uri": "https://localhost:8080/",
          "height": 300
        },
        "id": "5kJ1aq3L5UjS",
        "outputId": "4173284a-99fc-4c9e-a241-f0b197f62ec3"
      },
      "execution_count": 157,
      "outputs": [
        {
          "output_type": "execute_result",
          "data": {
            "text/plain": [
              "              Year  Total Tested\n",
              "count   409.000000    409.000000\n",
              "mean   2015.951100     51.100244\n",
              "std       0.812015     48.834226\n",
              "min    2015.000000      1.000000\n",
              "25%    2015.000000      9.000000\n",
              "50%    2016.000000     38.000000\n",
              "75%    2017.000000     77.000000\n",
              "max    2017.000000    186.000000"
            ],
            "text/html": [
              "\n",
              "  <div id=\"df-9a064510-0cee-41bf-8ca9-e87c36646c32\">\n",
              "    <div class=\"colab-df-container\">\n",
              "      <div>\n",
              "<style scoped>\n",
              "    .dataframe tbody tr th:only-of-type {\n",
              "        vertical-align: middle;\n",
              "    }\n",
              "\n",
              "    .dataframe tbody tr th {\n",
              "        vertical-align: top;\n",
              "    }\n",
              "\n",
              "    .dataframe thead th {\n",
              "        text-align: right;\n",
              "    }\n",
              "</style>\n",
              "<table border=\"1\" class=\"dataframe\">\n",
              "  <thead>\n",
              "    <tr style=\"text-align: right;\">\n",
              "      <th></th>\n",
              "      <th>Year</th>\n",
              "      <th>Total Tested</th>\n",
              "    </tr>\n",
              "  </thead>\n",
              "  <tbody>\n",
              "    <tr>\n",
              "      <th>count</th>\n",
              "      <td>409.000000</td>\n",
              "      <td>409.000000</td>\n",
              "    </tr>\n",
              "    <tr>\n",
              "      <th>mean</th>\n",
              "      <td>2015.951100</td>\n",
              "      <td>51.100244</td>\n",
              "    </tr>\n",
              "    <tr>\n",
              "      <th>std</th>\n",
              "      <td>0.812015</td>\n",
              "      <td>48.834226</td>\n",
              "    </tr>\n",
              "    <tr>\n",
              "      <th>min</th>\n",
              "      <td>2015.000000</td>\n",
              "      <td>1.000000</td>\n",
              "    </tr>\n",
              "    <tr>\n",
              "      <th>25%</th>\n",
              "      <td>2015.000000</td>\n",
              "      <td>9.000000</td>\n",
              "    </tr>\n",
              "    <tr>\n",
              "      <th>50%</th>\n",
              "      <td>2016.000000</td>\n",
              "      <td>38.000000</td>\n",
              "    </tr>\n",
              "    <tr>\n",
              "      <th>75%</th>\n",
              "      <td>2017.000000</td>\n",
              "      <td>77.000000</td>\n",
              "    </tr>\n",
              "    <tr>\n",
              "      <th>max</th>\n",
              "      <td>2017.000000</td>\n",
              "      <td>186.000000</td>\n",
              "    </tr>\n",
              "  </tbody>\n",
              "</table>\n",
              "</div>\n",
              "      <button class=\"colab-df-convert\" onclick=\"convertToInteractive('df-9a064510-0cee-41bf-8ca9-e87c36646c32')\"\n",
              "              title=\"Convert this dataframe to an interactive table.\"\n",
              "              style=\"display:none;\">\n",
              "        \n",
              "  <svg xmlns=\"http://www.w3.org/2000/svg\" height=\"24px\"viewBox=\"0 0 24 24\"\n",
              "       width=\"24px\">\n",
              "    <path d=\"M0 0h24v24H0V0z\" fill=\"none\"/>\n",
              "    <path d=\"M18.56 5.44l.94 2.06.94-2.06 2.06-.94-2.06-.94-.94-2.06-.94 2.06-2.06.94zm-11 1L8.5 8.5l.94-2.06 2.06-.94-2.06-.94L8.5 2.5l-.94 2.06-2.06.94zm10 10l.94 2.06.94-2.06 2.06-.94-2.06-.94-.94-2.06-.94 2.06-2.06.94z\"/><path d=\"M17.41 7.96l-1.37-1.37c-.4-.4-.92-.59-1.43-.59-.52 0-1.04.2-1.43.59L10.3 9.45l-7.72 7.72c-.78.78-.78 2.05 0 2.83L4 21.41c.39.39.9.59 1.41.59.51 0 1.02-.2 1.41-.59l7.78-7.78 2.81-2.81c.8-.78.8-2.07 0-2.86zM5.41 20L4 18.59l7.72-7.72 1.47 1.35L5.41 20z\"/>\n",
              "  </svg>\n",
              "      </button>\n",
              "      \n",
              "  <style>\n",
              "    .colab-df-container {\n",
              "      display:flex;\n",
              "      flex-wrap:wrap;\n",
              "      gap: 12px;\n",
              "    }\n",
              "\n",
              "    .colab-df-convert {\n",
              "      background-color: #E8F0FE;\n",
              "      border: none;\n",
              "      border-radius: 50%;\n",
              "      cursor: pointer;\n",
              "      display: none;\n",
              "      fill: #1967D2;\n",
              "      height: 32px;\n",
              "      padding: 0 0 0 0;\n",
              "      width: 32px;\n",
              "    }\n",
              "\n",
              "    .colab-df-convert:hover {\n",
              "      background-color: #E2EBFA;\n",
              "      box-shadow: 0px 1px 2px rgba(60, 64, 67, 0.3), 0px 1px 3px 1px rgba(60, 64, 67, 0.15);\n",
              "      fill: #174EA6;\n",
              "    }\n",
              "\n",
              "    [theme=dark] .colab-df-convert {\n",
              "      background-color: #3B4455;\n",
              "      fill: #D2E3FC;\n",
              "    }\n",
              "\n",
              "    [theme=dark] .colab-df-convert:hover {\n",
              "      background-color: #434B5C;\n",
              "      box-shadow: 0px 1px 3px 1px rgba(0, 0, 0, 0.15);\n",
              "      filter: drop-shadow(0px 1px 2px rgba(0, 0, 0, 0.3));\n",
              "      fill: #FFFFFF;\n",
              "    }\n",
              "  </style>\n",
              "\n",
              "      <script>\n",
              "        const buttonEl =\n",
              "          document.querySelector('#df-9a064510-0cee-41bf-8ca9-e87c36646c32 button.colab-df-convert');\n",
              "        buttonEl.style.display =\n",
              "          google.colab.kernel.accessAllowed ? 'block' : 'none';\n",
              "\n",
              "        async function convertToInteractive(key) {\n",
              "          const element = document.querySelector('#df-9a064510-0cee-41bf-8ca9-e87c36646c32');\n",
              "          const dataTable =\n",
              "            await google.colab.kernel.invokeFunction('convertToInteractive',\n",
              "                                                     [key], {});\n",
              "          if (!dataTable) return;\n",
              "\n",
              "          const docLinkHtml = 'Like what you see? Visit the ' +\n",
              "            '<a target=\"_blank\" href=https://colab.research.google.com/notebooks/data_table.ipynb>data table notebook</a>'\n",
              "            + ' to learn more about interactive tables.';\n",
              "          element.innerHTML = '';\n",
              "          dataTable['output_type'] = 'display_data';\n",
              "          await google.colab.output.renderOutput(dataTable, element);\n",
              "          const docLink = document.createElement('div');\n",
              "          docLink.innerHTML = docLinkHtml;\n",
              "          element.appendChild(docLink);\n",
              "        }\n",
              "      </script>\n",
              "    </div>\n",
              "  </div>\n",
              "  "
            ]
          },
          "metadata": {},
          "execution_count": 157
        }
      ]
    },
    {
      "cell_type": "code",
      "source": [],
      "metadata": {
        "id": "i9NWtj_tFcsA"
      },
      "execution_count": null,
      "outputs": []
    }
  ]
}